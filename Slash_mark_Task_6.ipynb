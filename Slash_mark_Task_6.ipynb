{
  "nbformat": 4,
  "nbformat_minor": 0,
  "metadata": {
    "colab": {
      "provenance": []
    },
    "kernelspec": {
      "name": "python3",
      "display_name": "Python 3"
    },
    "language_info": {
      "name": "python"
    }
  },
  "cells": [
    {
      "cell_type": "code",
      "source": [
        "# import requried dependencies\n",
        "import pandas as pd\n",
        "from sklearn.feature_extraction.text import CountVectorizer\n",
        "from sklearn.metrics.pairwise import cosine_similarity\n",
        "\n",
        "# read the data\n",
        "df = pd.read_csv(\"/content/song-dataset.csv\", low_memory=False)[:1000]\n",
        "\n",
        "# remove duplicates\n",
        "df = df.drop_duplicates(subset=\"Song Name\")\n",
        "\n",
        "# drop Null values\n",
        "df = df.dropna(axis=0)\n",
        "\n",
        "# Drop the non-required columns\n",
        "df = df.drop(df.columns[3:], axis=1)\n",
        "\n",
        "# Removing space from \"Artist Name\" column\n",
        "df[\"Artist Name\"] = df[\"Artist Name\"].str.replace(\" \", \"\")\n",
        "\n",
        "# Combine all columns and assgin as new column\n",
        "df[\"data\"] = df.apply(lambda value: \" \".join(value.astype(\"str\")), axis=1)\n",
        "\n",
        "# models\n",
        "vectorizer = CountVectorizer()\n",
        "vectorized = vectorizer.fit_transform(df[\"data\"])\n",
        "similarities = cosine_similarity(vectorized)\n",
        "\n",
        "# Assgin the new dataframe with `similarities` values\n",
        "df_tmp = pd.DataFrame(similarities, columns=df[\"Song Name\"], index=df[\"Song Name\"]).reset_index()\n",
        "\n",
        "true = True\n",
        "while true:\n",
        "    print(\"The Top 10 Song Recommendation System\")\n",
        "    print(\"-------------------------------------\")\n",
        "    print(\"This will generate the 10 songs from the database thoese are similar to the song you entered.\")\n",
        "\n",
        "    # Asking the user for a song, it will loop until the song name is in our database.\n",
        "    while True:\n",
        "        input_song = input(\"Please enter the name of song: \")\n",
        "\n",
        "        if input_song in df_tmp.columns:\n",
        "            recommendation = df_tmp.nlargest(11, input_song)[\"Song Name\"]\n",
        "            break\n",
        "\n",
        "        else:\n",
        "            print(\"Sorry, there is no song name in our database. Please try another one.\")\n",
        "\n",
        "    print(\"You should check out these songs: \\n\")\n",
        "    for song in recommendation.values[1:]:\n",
        "        print(song)\n",
        "\n",
        "    print(\"\\n\")\n",
        "    # Asking the user for the next command, it will loop until the right command.\n",
        "    while True:\n",
        "        next_command = input(\"Do you want to generate again for the next song? [yes, no] \")\n",
        "\n",
        "        if next_command == \"yes\":\n",
        "            break\n",
        "\n",
        "        elif next_command == \"no\":\n",
        "            # `true` will be false. It will stop the whole script\n",
        "            true = False\n",
        "            break\n",
        "\n",
        "        else:\n",
        "            print(\"Please type 'yes' or 'no'\")"
      ],
      "metadata": {
        "colab": {
          "base_uri": "https://localhost:8080/"
        },
        "id": "4xnrJ0jjigdU",
        "outputId": "c713eafe-83b8-4ad1-be8f-79c97cc42e78"
      },
      "execution_count": 27,
      "outputs": [
        {
          "name": "stdout",
          "output_type": "stream",
          "text": [
            "The Top 10 Song Recommendation System\n",
            "-------------------------------------\n",
            "This will generate the 10 songs from the database thoese are similar to the song you entered.\n",
            "Please enter the name of song: Sun flower\n",
            "Sorry, there is no song name in our database. Please try another one.\n",
            "Please enter the name of song: Sunflower\n",
            "Sorry, there is no song name in our database. Please try another one.\n",
            "Please enter the name of song: rockstar\n",
            "You should check out these songs: \n",
            "\n",
            "Circles\n",
            "Congratulations\n",
            "Wow.\n",
            "Psycho\n",
            "ROCKSTAR\n",
            "Enemies\n",
            "Paranoid\n",
            "SaintTropez\n",
            "I Fall Apart\n",
            "Better Now\n",
            "\n",
            "\n",
            "Do you want to generate again for the next song? [yes, no] no\n"
          ]
        }
      ]
    }
  ]
}